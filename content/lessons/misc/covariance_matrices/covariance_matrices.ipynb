{
 "cells": [
  {
   "cell_type": "code",
   "execution_count": null,
   "metadata": {},
   "outputs": [],
   "source": [
    "import numpy as np\n",
    "import matplotlib.pyplot as plt\n",
    "from scipy.stats import multivariate_normal\n",
    "\n",
    "def plot_2d_normal(mu, cov, min=-10.0, max=10.0, step=0.1):\n",
    "    x, y = np.mgrid[min:max:step, min:max:step]\n",
    "    pos = np.dstack((x, y))\n",
    "    rv = multivariate_normal(mu, cov)\n",
    "    fig2 = plt.figure()\n",
    "    ax2 = fig2.add_subplot(111, aspect='equal')\n",
    "    ax2.contourf(x, y, rv.pdf(pos))"
   ]
  },
  {
   "cell_type": "code",
   "execution_count": null,
   "metadata": {},
   "outputs": [],
   "source": [
    "mean = np.array([0,0])\n",
    "cov = np.array([[9,11.995],[11.995,16]])\n",
    "plot_2d_normal(mean, cov)\n",
    "w,v = np.linalg.eig(cov)\n",
    "print(w)\n",
    "print(v)\n",
    "x, y = np.random.multivariate_normal(mean, cov, 1000000).transpose()\n",
    "print(np.var(x))\n",
    "print(np.var(y))"
   ]
  }
 ],
 "metadata": {
  "language_info": {
   "codemirror_mode": {
    "name": "ipython",
    "version": 3
   },
   "file_extension": ".py",
   "mimetype": "text/x-python",
   "name": "python",
   "nbconvert_exporter": "python",
   "pygments_lexer": "ipython3",
   "version": "3.8.10-final"
  },
  "orig_nbformat": 2,
  "kernelspec": {
   "name": "python381064bit7c0f66749da2429e9ab7a67ac6d63f0f",
   "display_name": "Python 3.8.10 64-bit"
  }
 },
 "nbformat": 4,
 "nbformat_minor": 2
}