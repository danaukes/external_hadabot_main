{
 "cells": [
  {
   "cell_type": "code",
   "execution_count": null,
   "metadata": {},
   "outputs": [],
   "source": [
    "import numpy as np\n",
    "import matplotlib.pyplot as plt\n",
    "\n",
    "world_size_1d = 20\n",
    "\n",
    "def plot_histogram(bel):\n",
    "    plt.cla()\n",
    "    plt.bar(range(0, bel.shape[0]), bel, width=1.0)\n",
    "    plt.axis([0, bel.shape[0], 0, 1])\n",
    "    plt.draw()\n",
    "    plt.pause(0.25)\n",
    "\n",
    "def discrete_bayes_filter(bel, d):\n",
    "    if d[\"type\"] == \"perceptual\":\n",
    "        assert(\"This exercise does not use any perceptual data\")\n",
    "    else:\n",
    "        # action\n",
    "        bel_prime = np.zeros(np.shape(bel))\n",
    "        \n",
    "        #################################################\n",
    "        # Implement the prediction step for the discrete\n",
    "        # bayes filter here - return back the new belief\n",
    "        #################################################\n",
    "\n",
    "        return bel_prime\n",
    "\n",
    "\n",
    "bel = np.hstack ((np.zeros(9), 1, np.zeros(10)))\n",
    "\n",
    "d_array = [\n",
    "    {\"type\": \"action\", \"u\": \"fwd\"},\n",
    "    {\"type\": \"action\", \"u\": \"fwd\"},\n",
    "    {\"type\": \"action\", \"u\": \"fwd\"},\n",
    "    {\"type\": \"action\", \"u\": \"fwd\"},\n",
    "    {\"type\": \"action\", \"u\": \"fwd\"},\n",
    "    {\"type\": \"action\", \"u\": \"fwd\"},\n",
    "    {\"type\": \"action\", \"u\": \"fwd\"},\n",
    "    {\"type\": \"action\", \"u\": \"fwd\"},\n",
    "    {\"type\": \"action\", \"u\": \"fwd\"},\n",
    "    {\"type\": \"action\", \"u\": \"back\"},\n",
    "    {\"type\": \"action\", \"u\": \"back\"},\n",
    "    {\"type\": \"action\", \"u\": \"back\"},\n",
    "]\n",
    "\n",
    "plt.figure()\n",
    "plt.ion()\n",
    "plt.show()\n",
    "\n",
    "for d in d_array:\n",
    "    plot_histogram(bel)\n",
    "    bel = discrete_bayes_filter(bel, d)\n",
    "    print(\"sum belief\", np.sum(bel))\n",
    "\n",
    "plt.ioff()\n",
    "plt.show()\n"
   ]
  }
 ],
 "metadata": {
  "language_info": {
   "codemirror_mode": {
    "name": "ipython",
    "version": 3
   },
   "file_extension": ".py",
   "mimetype": "text/x-python",
   "name": "python",
   "nbconvert_exporter": "python",
   "pygments_lexer": "ipython3",
   "version": "3.8.10-final"
  },
  "orig_nbformat": 2,
  "kernelspec": {
   "name": "python381064bitd850bf25c03446d3acbd26067231d040",
   "display_name": "Python 3.8.10 64-bit"
  }
 },
 "nbformat": 4,
 "nbformat_minor": 2
}