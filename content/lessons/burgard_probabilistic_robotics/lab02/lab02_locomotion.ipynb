{
 "cells": [
  {
   "cell_type": "code",
   "execution_count": null,
   "metadata": {},
   "outputs": [],
   "source": [
    "import matplotlib.pyplot as plt \n",
    "import numpy as numpy\n",
    "\n",
    "# Using NumPy and matplotlib, (1) plot the start position of the robot as a 'red X', (2) plot the end position as a 'blue X', (3) and plot the trajectory of the robot from the start to the end position as a 'green line'.\n",
    "\n",
    "# Makes the aspect ratios of the axis equal so a circle doesn't look like an oval\n",
    "plt.axes().set_aspect('equal')\n"
   ]
  },
  {
   "cell_type": "code",
   "execution_count": null,
   "metadata": {},
   "outputs": [],
   "source": [
    "def get_trajectory_distance(diameter_01):\n",
    "    distance_start_end = 0.5\n",
    "\n",
    "    # Implement code here that computes and returns the length of the semi-circle trajectories. The input diameter_01 is the length of the first semi-circle trajectory (from which we can calculate the 2nd semi-circle diameter).\n",
    "    \n",
    "    return 0.0\n",
    "\n",
    "rval01 = get_trajectory_distance(0.25)\n",
    "rval02 = get_trajectory_distance(0.7)\n",
    "print(f\"If diameter01 == 0.25m, then the full trajectory is {rval01}m\")\n",
    "print(f\"If diameter01 == 0.7m, then the full trajectory is {rval02}m\")"
   ]
  },
  {
   "cell_type": "code",
   "execution_count": null,
   "metadata": {},
   "outputs": [],
   "source": [
    "# Create a NumPy array of eleven (11) values of diameter01, linearly spaced >=0.0 and <=1.0. Using the get_trajectory_distance(...) routine you implemented and matplotlib, plot out the trajectory distances against the diameter01 values."
   ]
  },
  {
   "cell_type": "code",
   "execution_count": null,
   "metadata": {},
   "outputs": [],
   "source": [
    "def get_shortest_path_steering_commands(\n",
    "        start_pose, end_pose, wheel_rot_velocity, wheel_radius, wheelbase):\n",
    "    vl_0 = vr_0 = t0 = 0.0\n",
    "    vl_1 = vr_1 = t1 = 0.0\n",
    "    vl_2 = vr_2 = t2 = 0.0\n",
    "\n",
    "    # Implement the function to compute and return the 3 steering commands to follow a trajectory that is effectively a straight line from the start to the end pose positions.\n",
    "\n",
    "    return([(vl_0,vr_0,t0),(vl_1,vr_1,t1),(vl_2,vr_2,t2)])\n",
    "\n",
    "\n",
    "get_shortest_path_steering_commands(\n",
    "    (1.0,2.0,np.pi/2.0),\n",
    "    (1.5,2.0,np.pi/2.0),\n",
    "    2.0*np.pi, 0.07, 0.14)"
   ]
  }
 ],
 "metadata": {
  "language_info": {
   "codemirror_mode": {
    "name": "ipython",
    "version": 3
   },
   "file_extension": ".py",
   "mimetype": "text/x-python",
   "name": "python",
   "nbconvert_exporter": "python",
   "pygments_lexer": "ipython3",
   "version": "3.8.10-final"
  },
  "orig_nbformat": 2,
  "kernelspec": {
   "name": "python381064bitd0f59c838525416cbd68e6aba8ffb6d2",
   "display_name": "Python 3.8.10 64-bit"
  }
 },
 "nbformat": 4,
 "nbformat_minor": 2
}