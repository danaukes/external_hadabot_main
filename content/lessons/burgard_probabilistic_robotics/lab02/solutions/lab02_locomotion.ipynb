{
 "cells": [
  {
   "cell_type": "code",
   "execution_count": null,
   "metadata": {},
   "outputs": [],
   "source": [
    "import matplotlib.pyplot as plt \n",
    "import numpy as np\n",
    "\n",
    "pos_start = np.array([1.0, 2.0])\n",
    "pos_end = np.array([1.5, 2.0])\n",
    "\n",
    "distance_start_end = 0.5\n",
    "diameter_half_circle = distance_start_end * 0.5\n",
    "radius_half_circle = diameter_half_circle * 0.5\n",
    "half_circle_theta = np.linspace(np.pi, 0.0, 100)\n",
    "half_circle_x = np.cos(half_circle_theta) * radius_half_circle\n",
    "half_circle_y = np.sin(half_circle_theta) * radius_half_circle\n",
    "\n",
    "plt.axes().set_aspect('equal')\n",
    "plt.plot(pos_start[0], pos_end[1], \"rx\")\n",
    "plt.plot(pos_end[0], pos_end[1], \"bx\")\n",
    "plt.plot(\n",
    "    half_circle_x + radius_half_circle + pos_start[0], \n",
    "    half_circle_y + pos_start[1], \"g-\")\n",
    "plt.plot(\n",
    "    half_circle_x + radius_half_circle + pos_start[0] + diameter_half_circle, \n",
    "    (-1.0 * half_circle_y) + pos_end[1], \"g-\")"
   ]
  },
  {
   "cell_type": "code",
   "execution_count": null,
   "metadata": {},
   "outputs": [],
   "source": [
    "def get_trajectory_distance(diameter_01):\n",
    "    distance_start_end = 0.5\n",
    "    diameter_02 = np.absolute(0.5 - diameter_01)\n",
    "    circumference01 = np.pi * diameter_01\n",
    "    circumference02 = np.pi * diameter_02\n",
    "    return (circumference01 + circumference02) * 0.5\n",
    "\n",
    "rval01 = get_trajectory_distance(0.25)\n",
    "rval02 = get_trajectory_distance(0.7)\n",
    "print(f\"If diameter01 == 0.25m, then the full trajectory is {rval01}m\")\n",
    "print(f\"If diameter01 == 0.7m, then the full trajectory is {rval02}m\")"
   ]
  },
  {
   "cell_type": "code",
   "execution_count": null,
   "metadata": {},
   "outputs": [],
   "source": [
    "diameter01_array = np.linspace(0.0, 1.0, 11)\n",
    "traj_dist_array = get_trajectory_distance(diameter01_array)\n",
    "plt.plot(diameter01_array, traj_dist_array)"
   ]
  },
  {
   "cell_type": "code",
   "execution_count": null,
   "metadata": {},
   "outputs": [],
   "source": [
    "def get_shortest_path_steering_commands(\n",
    "        start_pose, end_pose, wheel_rot_velocity, wheel_radius, wheelbase):\n",
    "    start_ori_atan2 = np.arctan2(np.sin(start_pose[2]), np.cos(start_pose[2]))\n",
    "    end_ori_atan2 = np.arctan2(np.sin(end_pose[2]), np.cos(end_pose[2]))\n",
    "    heading_atan2 = np.arctan2(end_pose[1] - start_pose[1], end_pose[0] - start_pose[0])\n",
    "\n",
    "    wheel_velocity = wheel_rot_velocity * wheel_radius\n",
    "    inplace_rotate_circumference = wheelbase * np.pi\n",
    "\n",
    "    rot0 = heading_atan2 - start_ori_atan2\n",
    "    rot0_dist = (rot0 / (2.0 * np.pi)) * inplace_rotate_circumference\n",
    "    cw_ccw_factor_0 = np.sign(rot0_dist)\n",
    "    t0 = np.abs(rot0_dist / wheel_velocity)\n",
    "    vl_0 = -1.0 * wheel_rot_velocity * cw_ccw_factor_0\n",
    "    vr_0 = 1.0 * wheel_rot_velocity * cw_ccw_factor_0\n",
    "\n",
    "    start_end_dist = np.linalg.norm([end_pose[0] - start_pose[0], end_pose[1] - start_pose[1]])\n",
    "    t1 = start_end_dist / wheel_velocity\n",
    "    vl_1 = wheel_rot_velocity\n",
    "    vr_1 = wheel_rot_velocity\n",
    "\n",
    "    rot1 = end_ori_atan2 - heading_atan2\n",
    "    rot1_dist = (rot1 / (2.0 * np.pi)) * inplace_rotate_circumference\n",
    "    cw_ccw_factor_2 = np.sign(rot1_dist)\n",
    "    t2 = np.abs(rot1_dist / wheel_velocity)\n",
    "    vl_2 = -1.0 * wheel_rot_velocity * cw_ccw_factor_2\n",
    "    vr_2 = 1.0 * wheel_rot_velocity * cw_ccw_factor_2\n",
    "\n",
    "    return([(vl_0,vr_0,t0),(vl_1,vr_1,t1),(vl_2,vr_2,t2)])\n",
    "\n",
    "\n",
    "get_shortest_path_steering_commands(\n",
    "    (1.0,2.0,np.pi/2.0),\n",
    "    (1.5,2.0,np.pi/2.0),\n",
    "    2.0*np.pi, 0.07, 0.14)"
   ]
  },
  {
   "cell_type": "code",
   "execution_count": null,
   "metadata": {},
   "outputs": [],
   "source": []
  }
 ],
 "metadata": {
  "language_info": {
   "codemirror_mode": {
    "name": "ipython",
    "version": 3
   },
   "file_extension": ".py",
   "mimetype": "text/x-python",
   "name": "python",
   "nbconvert_exporter": "python",
   "pygments_lexer": "ipython3",
   "version": "3.8.10-final"
  },
  "orig_nbformat": 2,
  "kernelspec": {
   "name": "python381064bitd0f59c838525416cbd68e6aba8ffb6d2",
   "display_name": "Python 3.8.10 64-bit"
  }
 },
 "nbformat": 4,
 "nbformat_minor": 2
}