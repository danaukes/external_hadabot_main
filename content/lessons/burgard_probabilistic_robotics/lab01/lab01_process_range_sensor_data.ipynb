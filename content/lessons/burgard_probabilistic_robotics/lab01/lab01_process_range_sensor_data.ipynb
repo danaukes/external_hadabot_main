{
 "cells": [
  {
   "cell_type": "code",
   "execution_count": null,
   "metadata": {},
   "outputs": [],
   "source": [
    "import math\n",
    "import numpy as np\n",
    "scan = np.loadtxt('../laserscan.dat')\n",
    "angle = np.linspace(-math.pi/2, math.pi/2, np.shape(scan)[0], endpoint='true')"
   ]
  }
 ],
 "metadata": {
  "language_info": {
   "codemirror_mode": {
    "name": "ipython",
    "version": 3
   },
   "file_extension": ".py",
   "mimetype": "text/x-python",
   "name": "python",
   "nbconvert_exporter": "python",
   "pygments_lexer": "ipython3",
   "version": 3
  },
  "orig_nbformat": 2
 },
 "nbformat": 4,
 "nbformat_minor": 2
}