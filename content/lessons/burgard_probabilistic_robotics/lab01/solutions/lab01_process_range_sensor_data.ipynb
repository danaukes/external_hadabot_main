{
 "cells": [
  {
   "cell_type": "code",
   "execution_count": null,
   "metadata": {},
   "outputs": [],
   "source": [
    "import math\n",
    "import numpy as np\n",
    "scan = np.loadtxt('../laserscan.dat')\n",
    "angle = np.linspace(-math.pi/2, math.pi/2, np.shape(scan)[0], endpoint='true')"
   ]
  },
  {
   "cell_type": "code",
   "execution_count": null,
   "metadata": {},
   "outputs": [],
   "source": [
    "import matplotlib.pyplot as plt\n",
    "\n",
    "for i in range(np.shape(scan)[0]):\n",
    "    plt.polar([angle[i], angle[i]],[0,scan[i]], \"-\", linewidth=0.5)\n",
    "plt.show()"
   ]
  },
  {
   "cell_type": "code",
   "execution_count": null,
   "metadata": {},
   "outputs": [],
   "source": [
    "import lab01_2d_xform as lab01\n",
    "\n",
    "robot_pose = np.array([[1.0, 0.5, np.pi * 0.25]])\n",
    "lidar_pose_wrt_robot_frame = np.array([[0.2, 0.0, np.pi]])\n",
    "lidar_pose_wrt_global_frame = lab01.robot_to_global_frame(\n",
    "    robot_pose, lidar_pose_wrt_robot_frame[:, 0:2])\n",
    "\n",
    "t_global_2_robot = lab01.pose_to_transform_matrix_3x3(robot_pose)\n",
    "t_robot_2_lidar = lab01.pose_to_transform_matrix_3x3(lidar_pose_wrt_robot_frame)\n",
    "t_global_2_lidar = np.matmul(t_global_2_robot, t_robot_2_lidar)\n",
    "\n",
    "# Convert lidar polar coordinates to cartesian\n",
    "lidar_xy_homogeneous_wrt_lidar_frame = np.stack(\n",
    "    (scan * np.cos(angle),\n",
    "     scan * np.sin(angle),\n",
    "     np.ones(np.shape(scan)[0])))\n",
    "lidar_xy_homogeneous_wrt_global_frame = np.matmul(\n",
    "    t_global_2_lidar, lidar_xy_homogeneous_wrt_lidar_frame)\n",
    "lidar_xy_wrt_global_frame = np.stack(\n",
    "    (lidar_xy_homogeneous_wrt_global_frame[0,:] / \n",
    "     lidar_xy_homogeneous_wrt_global_frame[2,:], \n",
    "     lidar_xy_homogeneous_wrt_global_frame[1,:] / \n",
    "     lidar_xy_homogeneous_wrt_global_frame[2,:]))\n",
    "\n",
    "\n",
    "for i in range(np.shape(scan)[0]):\n",
    "    plt.plot(\n",
    "        [lidar_pose_wrt_global_frame[0,0], lidar_xy_wrt_global_frame[0,i]],\n",
    "        [lidar_pose_wrt_global_frame[0,1], lidar_xy_wrt_global_frame[1,i]],\n",
    "        \"-\", linewidth=0.5)\n",
    "plt.plot(robot_pose[0,0], robot_pose[0,1], \"or\", markersize=12)\n",
    "plt.plot(lidar_pose_wrt_global_frame[0,0], lidar_pose_wrt_global_frame[0,1],\n",
    "         \"gx\", markersize=6)\n",
    "plt.show()"
   ]
  },
  {
   "cell_type": "code",
   "execution_count": null,
   "metadata": {},
   "outputs": [],
   "source": []
  }
 ],
 "metadata": {
  "language_info": {
   "codemirror_mode": {
    "name": "ipython",
    "version": 3
   },
   "file_extension": ".py",
   "mimetype": "text/x-python",
   "name": "python",
   "nbconvert_exporter": "python",
   "pygments_lexer": "ipython3",
   "version": "3.8.10-final"
  },
  "orig_nbformat": 2,
  "kernelspec": {
   "name": "python381064bitd0f59c838525416cbd68e6aba8ffb6d2",
   "display_name": "Python 3.8.10 64-bit"
  }
 },
 "nbformat": 4,
 "nbformat_minor": 2
}