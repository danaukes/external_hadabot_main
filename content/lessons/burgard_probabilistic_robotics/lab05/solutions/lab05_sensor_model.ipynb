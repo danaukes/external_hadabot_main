{
 "cells": [
  {
   "cell_type": "code",
   "execution_count": null,
   "metadata": {},
   "outputs": [],
   "source": [
    "def sensor_model(z, x, l)\n",
    "    \"\"\"\n",
    "    x - 2-tuple [x_r,y_r] - robot location\n",
    "    l - 2-tuple [x_l,y_l] - landmark location\n",
    "    z - 2-tuple [z_r, z_theta] - sensor reading to landmark location\n",
    "\n",
    "    Implement the sensor model and return p(z|x,l)\n",
    "    \"\"\"\n",
    "    p_of_z_given_x_l = 0.0\n",
    "    return p_of_z_given_x_l\n",
    "\n"
   ]
  }
 ],
 "metadata": {
  "language_info": {
   "codemirror_mode": {
    "name": "ipython",
    "version": 3
   },
   "file_extension": ".py",
   "mimetype": "text/x-python",
   "name": "python",
   "nbconvert_exporter": "python",
   "pygments_lexer": "ipython3",
   "version": 3
  },
  "orig_nbformat": 2
 },
 "nbformat": 4,
 "nbformat_minor": 2
}