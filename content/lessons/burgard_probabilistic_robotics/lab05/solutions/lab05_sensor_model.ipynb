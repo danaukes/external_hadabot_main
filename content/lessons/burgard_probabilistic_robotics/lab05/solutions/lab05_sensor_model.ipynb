{
 "cells": [
  {
   "cell_type": "code",
   "execution_count": null,
   "metadata": {},
   "outputs": [],
   "source": [
    "from scipy.stats import norm\n",
    "import numpy as np\n",
    "\n",
    "def sensor_model(z, x, l, z_r_variance, z_theta_variance):\n",
    "    \"\"\"\n",
    "    x - 2-tuple [x_r,y_r] - robot location\n",
    "    l - 2-tuple [x_l,y_l] - landmark location\n",
    "    z - 2-tuple [z_r, z_theta] - sensor reading to landmark location\n",
    "\n",
    "    Theta orientation is in radians\n",
    "\n",
    "    Implement the sensor model and return p(z|x,l)\n",
    "    \"\"\"\n",
    "\n",
    "    # p(z|x,l) = p(z_r,z_theta|x,l)\n",
    "    #\n",
    "    # Since z_r and z_theta are independent, then:\n",
    "    # p(z_r,z_theta|x,l) = p(z_r|x,l) * p(z_theta|x,l)\n",
    "    #\n",
    "    # p(z_r|x,l) = norm(z_r - z_r_hat, z_r_variance)\n",
    "    # z_r_hat = distance(x,l)\n",
    "    #\n",
    "    # Similarly, p(z_theta|x,l) = norm(z_theta - z_theta_hat, z_theta_variance)\n",
    "    # z_theta_hat = angle(x,l)\n",
    "\n",
    "    z_r_hat = np.sqrt((l[1] - x[1])**2 + (l[0] - x[0])**2)\n",
    "    p_z_r_given_x_l = norm.pdf(\n",
    "        z[0] - z_r_hat, loc=0, scale=np.sqrt(z_r_variance)\n",
    "    )\n",
    "\n",
    "    # For theta, we need to make sure the angle between measurement\n",
    "    # and that between x and l is within pi and -pi.\n",
    "    z_r_theta = np.arctan2(l[1] - x[1], l[0] - x[0])\n",
    "    z_diff = np.abs(z[1] - z_r_theta)\n",
    "    z_diff = z_diff if z_diff <= np.pi else ((2.0 * np.pi) - z_diff)\n",
    "    p_z_theta_given_x_l = norm.pdf(\n",
    "        z_diff, loc=0, scale=np.sqrt(z_theta_variance)\n",
    "    )\n",
    "\n",
    "    p_of_z_given_x_l = p_z_r_given_x_l * p_z_theta_given_x_l\n",
    "    return p_of_z_given_x_l\n",
    "\n",
    "x = np.array([0,0])\n",
    "l = np.array([10, 10])\n",
    "z_01 = np.array([np.sqrt(10**2 + 10**2), np.pi * 0.25])\n",
    "z_02 = np.array([np.sqrt(10**2 + 10**2) + 1, np.pi * 0.24])\n",
    "z_r_variance = 1.5\n",
    "z_theta_variance = 1.2\n",
    "print(\n",
    "    \"The likelihood of measurement z_01 vs z_02:\\n\"\n",
    "    f\"{sensor_model(z_01, x, l, z_r_variance, z_theta_variance)} vs \"\n",
    "    f\"{sensor_model(z_02, x, l, z_r_variance, z_theta_variance)}\")"
   ]
  }
 ],
 "metadata": {
  "language_info": {
   "codemirror_mode": {
    "name": "ipython",
    "version": 3
   },
   "file_extension": ".py",
   "mimetype": "text/x-python",
   "name": "python",
   "nbconvert_exporter": "python",
   "pygments_lexer": "ipython3",
   "version": "3.8.10-final"
  },
  "orig_nbformat": 2,
  "kernelspec": {
   "name": "python381064bitae51b647b8214b3584670aa7d1da5e9e",
   "display_name": "Python 3.8.10 64-bit"
  }
 },
 "nbformat": 4,
 "nbformat_minor": 2
}