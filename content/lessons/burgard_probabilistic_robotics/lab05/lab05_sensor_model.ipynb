{
 "cells": [
  {
   "cell_type": "code",
   "execution_count": null,
   "metadata": {},
   "outputs": [],
   "source": [
    "from scipy.stats import norm\n",
    "import numpy as np\n",
    "\n",
    "def sensor_model(z, x, l, z_r_variance, z_theta_variance):\n",
    "    \"\"\"\n",
    "    x - 2-tuple [x_r,y_r] - robot location\n",
    "    l - 2-tuple [x_l,y_l] - landmark location\n",
    "    z - 2-tuple [z_r, z_theta] - sensor reading to landmark location\n",
    "\n",
    "    Theta orientation is in radians\n",
    "\n",
    "    Implement the sensor model and return p(z|x,l)\n",
    "    \"\"\"\n",
    "\n",
    "    # Please explain your model in the comments here\n",
    "    p_of_z_given_x_l = 0.0  # Implement\n",
    "    return p_of_z_given_x_l\n",
    "\n",
    "x = np.array([0,0])\n",
    "l = np.array([10, 10])\n",
    "z_01 = np.array([np.sqrt(10**2 + 10**2), np.pi * 0.25])\n",
    "z_02 = np.array([np.sqrt(10**2 + 10**2) + 1, np.pi * 0.24])\n",
    "z_r_variance = 1.5\n",
    "z_theta_variance = 1.2\n",
    "print(\n",
    "    \"The likelihood of measurement z_01 vs z_02:\\n\"\n",
    "    f\"{sensor_model(z_01, x, l, z_r_variance, z_theta_variance)} vs \"\n",
    "    f\"{sensor_model(z_02, x, l, z_r_variance, z_theta_variance)}\")"
   ]
  }
 ],
 "metadata": {
  "language_info": {
   "codemirror_mode": {
    "name": "ipython",
    "version": 3
   },
   "file_extension": ".py",
   "mimetype": "text/x-python",
   "name": "python",
   "nbconvert_exporter": "python",
   "pygments_lexer": "ipython3",
   "version": "3.8.10-final"
  },
  "orig_nbformat": 2,
  "kernelspec": {
   "name": "python381064bitae51b647b8214b3584670aa7d1da5e9e",
   "display_name": "Python 3.8.10 64-bit"
  }
 },
 "nbformat": 4,
 "nbformat_minor": 2
}