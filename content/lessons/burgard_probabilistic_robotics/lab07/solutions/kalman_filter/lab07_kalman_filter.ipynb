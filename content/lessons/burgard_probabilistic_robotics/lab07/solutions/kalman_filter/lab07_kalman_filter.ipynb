{
 "cells": [
  {
   "cell_type": "code",
   "execution_count": null,
   "metadata": {},
   "outputs": [],
   "source": [
    "import numpy as np\n",
    "import matplotlib.pyplot as plt\n",
    "from scipy.stats import multivariate_normal, norm\n",
    "\n",
    "def plot_2d_normal(mu, cov, min=-10.0, max=10.0, step=0.1):\n",
    "    x, y = np.mgrid[min:max:step, min:max:step]\n",
    "    pos = np.dstack((x, y))\n",
    "    rv = multivariate_normal(mu, cov)\n",
    "    fig2 = plt.figure()\n",
    "    ax2 = fig2.add_subplot(111, aspect='equal')\n",
    "    ax2.contourf(x, y, rv.pdf(pos))\n",
    "    plt.show()\n",
    "\n",
    "def plot_1d_normal(mu, variance, min=-0.0, max=25.0, step=0.1):\n",
    "    x = np.arange(min, max, step)\n",
    "    rv = norm(mu, np.sqrt(variance))\n",
    "    plt.plot(x, rv.pdf(x))"
   ]
  },
  {
   "cell_type": "code",
   "execution_count": null,
   "metadata": {},
   "outputs": [],
   "source": [
    "def kf_prediction(mu_t_1, sigma_t_1, u, A, B, Q):\n",
    "    mu_bar_t = (A @ mu_t_1) + (B @ u)\n",
    "    sigma_bar_t = (A @ sigma_t_1 @ A.T) + Q\n",
    "    return mu_bar_t, sigma_bar_t\n",
    "\n",
    "def kf_correction(mu_bar_t, sigma_bar_t, z, C, R):\n",
    "    K = sigma_bar_t @ C.T @ np.linalg.inv((C @ sigma_bar_t @ C.T) + R)\n",
    "    mu = mu_bar_t + (K  @  (z-(C @ mu_bar_t)))\n",
    "    sigma = (np.identity(sigma_bar_t.shape[0]) - (K @ C)) @ sigma_bar_t\n",
    "    return mu, sigma\n",
    "\n",
    "def kf(mu_t_1, sigma_t_1, u, z, A, B, C, Q, R):\n",
    "    mu_bar_t, sigma_bar_t = kf_prediction(mu_t_1, sigma_t_1, u, A, B, Q)\n",
    "    mu, sigma = kf_correction(mu_bar_t, sigma_bar_t, z, C, R)\n",
    "    return mu, sigma, mu_bar_t, sigma_bar_t"
   ]
  },
  {
   "cell_type": "code",
   "execution_count": null,
   "metadata": {},
   "outputs": [],
   "source": [
    "# state is transpose([location, velocity])\n",
    "mu = np.transpose(np.array([[10, 2]], np.double))\n",
    "sigma = np.array([[2, 0  ],\n",
    "                  [0, 0.1]], np.double)\n",
    "\n",
    "# Each time step, we move according to current velocity\n",
    "A = np.array([[1, 1],\n",
    "              [0, 1]], np.double)\n",
    "\n",
    "# Velocity increases based on how much we increase the throttle\n",
    "B = np.array([[0],\n",
    "              [1]], np.double)\n",
    "\n",
    "# Uncorrelated minor noise in the system\n",
    "Q = np.array([[1.0, 0  ],\n",
    "              [0  , 0.1]], np.double)\n",
    "\n",
    "# GPS-like measurement transform\n",
    "C = np.array([[1,0]], np.double)\n",
    "\n",
    "# Noise in measurement\n",
    "R = np.array([[1]], np.double)\n",
    "\n",
    "# Acceleration and measurement over time\n",
    "u = np.array([0,0,0,0,0], np.double)\n",
    "z = np.array([11, 12, 13, 14, 15], np.double)\n",
    "\n",
    "# KF\n",
    "for idx in range(0, len(u)):\n",
    "    mu_t_1 = mu\n",
    "    sigma_t_1 = sigma\n",
    "    mu, sigma, mu_bar_t, sigma_bar_t = kf(\n",
    "        mu, sigma, np.array([[u[idx]]]), np.array([[z[idx]]]), A, B, C, Q, R)\n",
    "\n",
    "    plot_1d_normal(mu_t_1.flatten()[0], sigma_t_1.flatten()[0])\n",
    "    plot_1d_normal(mu_bar_t.flatten()[0], sigma_bar_t.flatten()[0])\n",
    "    plot_1d_normal(mu.flatten()[0], sigma.flatten()[0])\n",
    "    plot_2d_normal(mu.flatten(), sigma, min=0.0, max=30.0)"
   ]
  }
 ],
 "metadata": {
  "language_info": {
   "codemirror_mode": {
    "name": "ipython",
    "version": 3
   },
   "file_extension": ".py",
   "mimetype": "text/x-python",
   "name": "python",
   "nbconvert_exporter": "python",
   "pygments_lexer": "ipython3",
   "version": "3.8.10-final"
  },
  "orig_nbformat": 2,
  "kernelspec": {
   "name": "python381064bit7c0f66749da2429e9ab7a67ac6d63f0f",
   "display_name": "Python 3.8.10 64-bit"
  }
 },
 "nbformat": 4,
 "nbformat_minor": 2
}