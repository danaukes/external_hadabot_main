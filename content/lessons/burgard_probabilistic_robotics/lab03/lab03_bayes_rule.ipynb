{
 "cells": [
  {
   "cell_type": "code",
   "execution_count": null,
   "metadata": {},
   "outputs": [],
   "source": [
    "def bayes_rule(likelihood, prior_a, prior_b):\n",
    "    posterior = 0.0  # Implement\n",
    "    return posterior"
   ]
  },
  {
   "cell_type": "code",
   "execution_count": null,
   "metadata": {},
   "outputs": [],
   "source": [
    "# Let a = the color of the taxi\n",
    "# Let b = the color of the taxi you think you saw\n",
    "\n",
    "# Solving for posterior p(a|b), the probability that the color of the \n",
    "# taxi is __ given that you think you saw ___ color\n",
    "\n",
    "# Prior for a\n",
    "# 9 out of 10 Athenian taxis are green\n",
    "prob_a_green = 0.0  # <-- HADABOT LESSON: Implement\n",
    "prob_a_blue = 0.0  # <-- HADABOT LESSON: Implement\n",
    "\n",
    "# Likelihood\n",
    "# discrimination between blue and green is 75% reliable\n",
    "prob_b_green_given_a_green = 0.0  # <-- HADABOT LESSON: Implement\n",
    "prob_b_green_given_a_blue = 0.0  # <-- HADABOT LESSON: Implement\n",
    "prob_b_blue_given_a_green = 0.0  # <-- HADABOT LESSON: Implement\n",
    "prob_b_blue_given_a_blue = 0.0  # <-- HADABOT LESSON: Implement\n",
    "\n",
    "# Prior for b\n",
    "prob_b_blue = 0.0  # <-- HADABOT LESSON: Implement\n",
    "prob_b_green = 0.0  # <-- HADABOT LESSON: Implement\n",
    "\n",
    "# Use bayes rule to solve for prob that taxi is blue when\n",
    "# you witnessed a blue taxi\n",
    "prob_a_blue_given_b_blue = bayes_rule(\n",
    "    prob_b_blue_given_a_blue, prob_a_blue, prob_b_blue)\n",
    "\n",
    "print(prob_a_blue_given_b_blue)"
   ]
  },
  {
   "cell_type": "code",
   "execution_count": null,
   "metadata": {},
   "outputs": [],
   "source": [
    "# New prior for a\n",
    "# 7 out of 10 Athenian taxis are green\n",
    "new_prob_a_green = 0.0  # <-- HADABOT LESSON: Implement\n",
    "new_prob_a_blue = 0.0  # <-- HADABOT LESSON: Implement\n",
    "\n",
    "# With new prior for a, use bayes rule to solve for prob that \n",
    "# taxi is blue when you witnessed a blue taxi\n",
    "new_prob_a_blue_given_b_blue = bayes_rule(\n",
    "    prob_b_blue_given_a_blue, new_prob_a_blue, prob_b_blue)\n",
    "\n",
    "print(new_prob_a_blue_given_b_blue)"
   ]
  }
 ],
 "metadata": {
  "language_info": {
   "codemirror_mode": {
    "name": "ipython",
    "version": 3
   },
   "file_extension": ".py",
   "mimetype": "text/x-python",
   "name": "python",
   "nbconvert_exporter": "python",
   "pygments_lexer": "ipython3",
   "version": 3
  },
  "orig_nbformat": 2
 },
 "nbformat": 4,
 "nbformat_minor": 2
}