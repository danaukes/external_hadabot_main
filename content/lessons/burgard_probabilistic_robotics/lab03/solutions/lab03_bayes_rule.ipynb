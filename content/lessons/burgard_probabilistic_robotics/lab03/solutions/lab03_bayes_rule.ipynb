{
 "cells": [
  {
   "cell_type": "code",
   "execution_count": null,
   "metadata": {},
   "outputs": [],
   "source": [
    "def bayes_rule(likelihood, prior_a, prior_b):\n",
    "    return (likelihood * prior_a) / prior_b"
   ]
  },
  {
   "cell_type": "code",
   "execution_count": null,
   "metadata": {},
   "outputs": [],
   "source": [
    "# Let a = the color of the taxi\n",
    "# Let b = the color of the taxi you think you saw\n",
    "\n",
    "# Solving for posterior p(a|b), the probability that the color of the \n",
    "# taxi is __ given that you think you saw ___ color\n",
    "\n",
    "# Prior for a\n",
    "# 9 out of 10 Athenian taxis are green\n",
    "prob_a_green = 9.0/10.0\n",
    "prob_a_blue = 1.0 - prob_a_green\n",
    "\n",
    "# Likelihood\n",
    "# discrimination between blue and green is 75% reliable\n",
    "prob_b_green_given_a_green = 0.75\n",
    "prob_b_green_given_a_blue = 0.25\n",
    "prob_b_blue_given_a_green = 0.25\n",
    "prob_b_blue_given_a_blue = 0.75\n",
    "\n",
    "# Prior for b\n",
    "prob_b_blue = (\n",
    "    (prob_b_blue_given_a_green * prob_a_green) +\n",
    "    (prob_b_blue_given_a_blue * prob_a_blue))\n",
    "prob_b_green = (\n",
    "    (prob_b_green_given_a_green * prob_a_green) + \n",
    "    (prob_b_green_given_a_blue * prob_a_blue))\n",
    "\n",
    "# Use bayes rule to solve for prob that taxi is blue when\n",
    "# you witnessed a blue taxi\n",
    "prob_a_blue_given_b_blue = bayes_rule(\n",
    "    prob_b_blue_given_a_blue, prob_a_blue, prob_b_blue)\n",
    "\n",
    "print(prob_a_blue_given_b_blue)"
   ]
  },
  {
   "cell_type": "code",
   "execution_count": null,
   "metadata": {},
   "outputs": [],
   "source": [
    "# New prior for a\n",
    "# 7 out of 10 Athenian taxis are green\n",
    "new_prob_a_green = 7.0/10.0\n",
    "new_prob_a_blue = 1.0 - new_prob_a_green\n",
    "\n",
    "# With new prior for a, use bayes rule to solve for prob that \n",
    "# taxi is blue when you witnessed a blue taxi\n",
    "new_prob_a_blue_given_b_blue = bayes_rule(\n",
    "    prob_b_blue_given_a_blue, new_prob_a_blue, prob_b_blue)\n",
    "\n",
    "print(new_prob_a_blue_given_b_blue)"
   ]
  }
 ],
 "metadata": {
  "language_info": {
   "codemirror_mode": {
    "name": "ipython",
    "version": 3
   },
   "file_extension": ".py",
   "mimetype": "text/x-python",
   "name": "python",
   "nbconvert_exporter": "python",
   "pygments_lexer": "ipython3",
   "version": "3.8.10-final"
  },
  "orig_nbformat": 2,
  "kernelspec": {
   "name": "python381064bit9a489a3902634e2db63824ea9db9bc25",
   "display_name": "Python 3.8.10 64-bit"
  }
 },
 "nbformat": 4,
 "nbformat_minor": 2
}