{
 "cells": [
  {
   "cell_type": "code",
   "execution_count": null,
   "metadata": {},
   "outputs": [],
   "source": [
    "import numpy as np \n",
    "from scipy.stats import norm\n",
    "\n",
    "def posterior_pdf_motion_model_odom(\n",
    "    x_t0, x_t1, u_t1, alpha=[np.sqrt(0.05),np.sqrt(0.05),np.sqrt(0.05),np.sqrt(0.05)]):\n",
    "    # Implements the PDF value for the posterior prob p(x_t1 | u_t1, x_t0)\n",
    "    # x = [x, y, theta]\n",
    "    # u = [drot1, drot2, dtrans]\n",
    "    # The resulting PDF is a normal distribution\n",
    "    p1 = 0\n",
    "    p2 = 0\n",
    "    p3 = 0\n",
    "    return [p1, p2, p3, p1 * p2 * p3]\n",
    "\n",
    "def compute_odom_u_from_poses(x_start, x_final):\n",
    "    # Input poses x = [x, y, theta]\n",
    "    # Implement the convertion to the drot1, drot2, and dtrans\n",
    "    #   odometry commands\n",
    "    drot1 = 0\n",
    "    drot2 = 0\n",
    "    dtrans = 0\n",
    "    return [drot1, drot2, dtrans]\n"
   ]
  },
  {
   "cell_type": "code",
   "execution_count": null,
   "metadata": {},
   "outputs": [],
   "source": [
    "# Initial, final-hypothesis, and final-odometry poses\n",
    "x0 = [0, 0, 0]\n",
    "x1 = [1.8, 0.75, np.pi/4.0]\n",
    "x1_odom = [1.85, 0.77, np.pi/3.9]\n",
    "u1 = compute_odom_u_from_poses(x0, x1_odom)\n",
    "p = posterior_pdf_motion_model_odom(x0, x1, u1)\n",
    "print(f\"[p1, p2, p3, p1*p2*p3] = {p}\")"
   ]
  }
 ],
 "metadata": {
  "language_info": {
   "codemirror_mode": {
    "name": "ipython",
    "version": 3
   },
   "file_extension": ".py",
   "mimetype": "text/x-python",
   "name": "python",
   "nbconvert_exporter": "python",
   "pygments_lexer": "ipython3",
   "version": "3.8.10-final"
  },
  "orig_nbformat": 2,
  "kernelspec": {
   "name": "python381064bit57b5fbf2888945e99a4cac2824f6555e",
   "display_name": "Python 3.8.10 64-bit"
  }
 },
 "nbformat": 4,
 "nbformat_minor": 2
}