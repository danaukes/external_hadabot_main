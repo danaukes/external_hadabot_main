{
 "cells": [
  {
   "cell_type": "code",
   "execution_count": null,
   "metadata": {},
   "outputs": [],
   "source": [
    "import numpy as np\n",
    "import matplotlib.pyplot as plt\n",
    "\n",
    "def sample_normal_distribution_sum_uni(mu, variance):\n",
    "    std_dev = np.sqrt(variance)\n",
    "    uni_samples = np.random.default_rng().uniform(-1.0 * std_dev,std_dev,12)\n",
    "    return mu + (uni_samples.sum() * 0.5)\n",
    "\n",
    "mu = 5.0\n",
    "std_dev = 5.0\n",
    "nsamples = 10000\n",
    "s01 = [sample_normal_distribution_sum_uni(mu, std_dev*std_dev) for i in range(nsamples)]\n",
    "s02 = np.random.default_rng().normal(mu, std_dev, nsamples)\n",
    "\n",
    "nbins = 100\n",
    "n, bins, patches = plt.hist(s01, nbins, color='red', alpha=0.5)\n",
    "n, bins, patches = plt.hist(s02, nbins, color='blue', alpha=0.5)"
   ]
  },
  {
   "cell_type": "code",
   "execution_count": null,
   "metadata": {},
   "outputs": [],
   "source": [
    "import scipy.stats\n",
    "\n",
    "def sample_normal_distribution_rej_sampling(mu, variance):\n",
    "    std_dev = np.sqrt(variance)\n",
    "\n",
    "    # Maximum f of a normal distribution would be the PDF at the mean\n",
    "    maxf = scipy.stats.norm(mu, std_dev).pdf(mu)\n",
    "    \n",
    "    while True:\n",
    "        # Let's sample out to 3 sigma\n",
    "        x = np.random.default_rng().uniform((-3.0 * std_dev)+mu,(3.0 * std_dev)+mu)\n",
    "        y = np.random.default_rng().uniform(0, maxf)\n",
    "\n",
    "        # f(x) is the PDF at the sampled x point\n",
    "        f_of_x = scipy.stats.norm(mu, std_dev).pdf(x)\n",
    "        if f_of_x > y:\n",
    "            return x\n",
    "\n",
    "mu = 5.0\n",
    "std_dev = 5.0\n",
    "nsamples = 5000\n",
    "s01 = [sample_normal_distribution_rej_sampling(mu, std_dev*std_dev) for i in range(nsamples)]\n",
    "s02 = np.random.default_rng().normal(mu, std_dev, nsamples)\n",
    "\n",
    "nbins = 100\n",
    "n, bins, patches = plt.hist(s01, nbins, color='red', alpha=0.5)\n",
    "n, bins, patches = plt.hist(s02, nbins, color='blue', alpha=0.5)"
   ]
  },
  {
   "cell_type": "code",
   "execution_count": null,
   "metadata": {},
   "outputs": [],
   "source": [
    "def sample_normal_distribution_box_muller(mu, variance):\n",
    "    std_dev = np.sqrt(variance)\n",
    "\n",
    "    [s01, s02] = np.random.default_rng().uniform(0, 1, 2)\n",
    "\n",
    "    x = np.cos(2.0 * np.pi * s01) * np.sqrt(-2.0 * np.log(s02))\n",
    "    return mu + (std_dev * x)\n",
    "\n",
    "mu = 5.0\n",
    "std_dev = 5.0\n",
    "nsamples = 10000\n",
    "s01 = [sample_normal_distribution_box_muller(mu, std_dev*std_dev) for i in range(nsamples)]\n",
    "s02 = np.random.default_rng().normal(mu, std_dev, nsamples)\n",
    "\n",
    "nbins = 100\n",
    "n, bins, patches = plt.hist(s01, nbins, color='red', alpha=0.5)\n",
    "n, bins, patches = plt.hist(s02, nbins, color='blue', alpha=0.5)"
   ]
  },
  {
   "cell_type": "code",
   "execution_count": null,
   "metadata": {},
   "outputs": [],
   "source": [
    "import timeit\n",
    "\n",
    "mu = 5.0\n",
    "std_dev = 5.0\n",
    "nsamples = 1000\n",
    "rng = np.random.default_rng()\n",
    "print(timeit.timeit(lambda: sample_normal_distribution_sum_uni(mu, std_dev*std_dev), number=nsamples))\n",
    "print(timeit.timeit(lambda: sample_normal_distribution_rej_sampling(mu, std_dev*std_dev), number=nsamples))\n",
    "print(timeit.timeit(lambda: sample_normal_distribution_box_muller(mu, std_dev*std_dev), number=nsamples))\n",
    "print(timeit.timeit(lambda: rng.normal(mu, std_dev), number=nsamples))"
   ]
  },
  {
   "cell_type": "code",
   "execution_count": null,
   "metadata": {},
   "outputs": [],
   "source": []
  }
 ],
 "metadata": {
  "language_info": {
   "codemirror_mode": {
    "name": "ipython",
    "version": 3
   },
   "file_extension": ".py",
   "mimetype": "text/x-python",
   "name": "python",
   "nbconvert_exporter": "python",
   "pygments_lexer": "ipython3",
   "version": "3.8.10-final"
  },
  "orig_nbformat": 2,
  "kernelspec": {
   "name": "python381064bited4df5e3792f4721b7526cf8be05a165",
   "display_name": "Python 3.8.10 64-bit"
  }
 },
 "nbformat": 4,
 "nbformat_minor": 2
}