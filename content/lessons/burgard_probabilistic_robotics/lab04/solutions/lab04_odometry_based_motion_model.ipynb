{
 "cells": [
  {
   "cell_type": "code",
   "execution_count": null,
   "metadata": {},
   "outputs": [],
   "source": [
    "import numpy as np\n",
    "\n",
    "def sample_motion_model_odom(xt, ut, alpha):\n",
    "    [x, y, theta] = xt\n",
    "    [drot1, drot2, dtrans] = ut\n",
    "    [a1, a2, a3, a4] = alpha\n",
    "\n",
    "    rng = np.random.default_rng()\n",
    "    dr1 = drot1 + rng.normal(loc=0.0, scale=a1*np.abs(drot1) + a2*np.abs(dtrans))\n",
    "    dr2 = drot2 + rng.normal(loc=0.0, scale=a1*np.abs(drot2) + a2*np.abs(dtrans))\n",
    "    dtr = dtrans + rng.normal(\n",
    "        loc=0.0, scale=a3*np.abs(dtrans) + a4*(np.abs(drot1) + np.abs(drot2)))\n",
    "\n",
    "    x1 = x + (dtr * np.cos(theta + dr1))\n",
    "    y1 = y + (dtr * np.sin(theta + dr1))\n",
    "    theta1 = theta + dr1 + dr2\n",
    "\n",
    "    return [dr1, dr2, dtr, x1, y1, theta1]"
   ]
  },
  {
   "cell_type": "code",
   "execution_count": null,
   "metadata": {},
   "outputs": [],
   "source": [
    "import matplotlib.pyplot as plt\n",
    "\n",
    "x0 = [2.0, 4.0, 0.0]\n",
    "u1 = [np.pi*0.5, 0.0, 1.0]\n",
    "a = [0.1, 0.1, 0.01, 0.01]\n",
    "s = [sample_motion_model_odom(x0, u1, a) for i in range(5000)]\n",
    "\n",
    "m = np.array(s)\n",
    "x_arr = m[:,3]\n",
    "y_arr = m[:,4]\n",
    "\n",
    "plt.plot(x_arr, y_arr, \"x\")"
   ]
  },
  {
   "cell_type": "code",
   "execution_count": null,
   "metadata": {},
   "outputs": [],
   "source": []
  }
 ],
 "metadata": {
  "language_info": {
   "codemirror_mode": {
    "name": "ipython",
    "version": 3
   },
   "file_extension": ".py",
   "mimetype": "text/x-python",
   "name": "python",
   "nbconvert_exporter": "python",
   "pygments_lexer": "ipython3",
   "version": "3.8.10-final"
  },
  "orig_nbformat": 2,
  "kernelspec": {
   "name": "python381064bitd27c20cbef464a65a3280ea7d9866fac",
   "display_name": "Python 3.8.10 64-bit"
  }
 },
 "nbformat": 4,
 "nbformat_minor": 2
}