{
 "cells": [
  {
   "cell_type": "code",
   "execution_count": null,
   "metadata": {},
   "outputs": [],
   "source": [
    "import numpy as np \n",
    "from scipy.stats import norm\n",
    "\n",
    "def posterior_pdf_motion_model_odom(\n",
    "    x_t0, x_t1, u_t1, alpha=[np.sqrt(0.05),np.sqrt(0.05),np.sqrt(0.05),np.sqrt(0.05)]):\n",
    "    # Implements the PDF value for the posterior prob p(x_t1 | u_t1, x_t0)\n",
    "    # x = [x, y, theta]\n",
    "    # u = [drot1, drot2, dtrans]\n",
    "    # The PDF is derived from a normal distribution\n",
    "\n",
    "    [drot1, drot2, dtrans] = u_t1\n",
    "    print(f\"Odometry (drot1, drot2, dtrans): {u_t1}\")\n",
    "\n",
    "    # Odometry derived from the hypothesis\n",
    "    [drot1_h, drot2_h, dtrans_h] = compute_odom_u_from_poses(x_t0, x_t1)\n",
    "    print(f\"Hypothesis (drot1, drot2, dtrans): {[drot1_h, drot2_h, dtrans_h]}\")\n",
    "\n",
    "    [a1, a2, a3, a4] = alpha\n",
    "    p1 = norm.pdf(drot1 - drot1_h, scale=a1*np.abs(drot1_h) + a2*np.abs(dtrans_h))\n",
    "    p2 = norm.pdf(dtrans - dtrans_h, scale=a3*np.abs(dtrans_h) + a4*(np.abs(drot1_h)+np.abs(drot2_h)))\n",
    "    p3 = norm.pdf(drot2 - drot2_h, scale=a1*np.abs(drot2_h) + a2*np.abs(dtrans_h))\n",
    "    return [p1, p2, p3, p1 * p2 * p3]\n",
    "\n",
    "def compute_odom_u_from_poses(x_start, x_final):\n",
    "    # Input poses x = [x, y, theta]\n",
    "    [x0, y0, theta0] = x_start\n",
    "    [x1, y1, theta1] = x_final\n",
    "    dtrans = np.sqrt(((y1-y0)**2) + ((x1-x0)**2))\n",
    "    drot1 = (np.arctan2(y1-y0, x1-x0) - theta0)\n",
    "    drot2 = theta1 - theta0 - drot1\n",
    "    return [drot1, drot2, dtrans]\n",
    "\n",
    "\n",
    "# Initial, final-hypothesis, and final-odometry poses\n",
    "x0 = [0, 0, 0]\n",
    "x1 = [1.8, 0.75, np.pi/4.0]\n",
    "x1_odom = [1.85, 0.77, np.pi/3.9]\n",
    "u1 = compute_odom_u_from_poses(x0, x1_odom)\n",
    "p = posterior_pdf_motion_model_odom(x0, x1, u1)\n",
    "print(f\"[p1, p2, p3, p1*p2*p3] = {p}\")"
   ]
  },
  {
   "cell_type": "code",
   "execution_count": null,
   "metadata": {},
   "outputs": [],
   "source": []
  }
 ],
 "metadata": {
  "language_info": {
   "codemirror_mode": {
    "name": "ipython",
    "version": 3
   },
   "file_extension": ".py",
   "mimetype": "text/x-python",
   "name": "python",
   "nbconvert_exporter": "python",
   "pygments_lexer": "ipython3",
   "version": "3.8.10-final"
  },
  "orig_nbformat": 2,
  "kernelspec": {
   "name": "python381064bitd27c20cbef464a65a3280ea7d9866fac",
   "display_name": "Python 3.8.10 64-bit"
  }
 },
 "nbformat": 4,
 "nbformat_minor": 2
}