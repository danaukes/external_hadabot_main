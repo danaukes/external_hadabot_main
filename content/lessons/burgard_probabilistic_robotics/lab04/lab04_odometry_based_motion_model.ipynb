{
 "cells": [
  {
   "cell_type": "code",
   "execution_count": null,
   "metadata": {},
   "outputs": [],
   "source": [
    "import numpy as np\n",
    "\n",
    "def sample_motion_model_odom(xt, ut, alpha):\n",
    "    [x, y, theta] = xt\n",
    "    [drot1, drot2, dtrans] = ut\n",
    "    [a1, a2, a3, a4] = alpha\n",
    "\n",
    "    # Implement the means to sample from the odom motion model here\n",
    "    \n",
    "    x1 = 0\n",
    "    y1 = 0\n",
    "    theta1 = 0\n",
    "\n",
    "    return [x1, y1, theta1]"
   ]
  },
  {
   "cell_type": "code",
   "execution_count": null,
   "metadata": {},
   "outputs": [],
   "source": [
    "import matplotlib.pyplot as plt\n",
    "\n",
    "x0 = [2.0, 4.0, 0.0]\n",
    "u1 = [np.pi*0.5, 0.0, 1.0]\n",
    "a = [0.1, 0.1, 0.01, 0.01]\n",
    "\n",
    "# Sample 5000 samples from your sample odom routine and plot it out as a \n",
    "# scatter plot"
   ]
  }
 ],
 "metadata": {
  "language_info": {
   "codemirror_mode": {
    "name": "ipython",
    "version": 3
   },
   "file_extension": ".py",
   "mimetype": "text/x-python",
   "name": "python",
   "nbconvert_exporter": "python",
   "pygments_lexer": "ipython3",
   "version": 3
  },
  "orig_nbformat": 2
 },
 "nbformat": 4,
 "nbformat_minor": 2
}