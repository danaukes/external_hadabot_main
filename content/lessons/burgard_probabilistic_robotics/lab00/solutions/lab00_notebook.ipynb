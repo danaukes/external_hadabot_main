{
 "cells": [
  {
   "cell_type": "code",
   "execution_count": null,
   "metadata": {},
   "outputs": [],
   "source": [
    "import myfirstscript\n",
    "\n",
    "myfirstscript.f(5)"
   ]
  },
  {
   "cell_type": "code",
   "execution_count": null,
   "metadata": {},
   "outputs": [],
   "source": [
    "import matplotlib.pyplot as plt\n",
    "import numpy as np\n",
    "\n",
    "x = np.linspace(-2.0 * np.pi, 2.0 * np.pi, 1000)\n",
    "y = np.array([myfirstscript.f(xi) for xi in x])\n",
    "plt.plot(x,y)\n",
    "plt.savefig(\"lab00_plotting_data.png\")"
   ]
  },
  {
   "cell_type": "code",
   "execution_count": null,
   "metadata": {},
   "outputs": [],
   "source": [
    "x_normal = np.random.default_rng().normal(5.0, 2.0, 100000)"
   ]
  },
  {
   "cell_type": "code",
   "execution_count": null,
   "metadata": {},
   "outputs": [],
   "source": [
    "x_uni = np.random.default_rng().uniform(0, 10, 100000)"
   ]
  },
  {
   "cell_type": "code",
   "execution_count": null,
   "metadata": {},
   "outputs": [],
   "source": [
    "x_normal_mean = np.mean(x_normal)\n",
    "x_normal_std = np.std(x_normal)\n",
    "x_uni_mean = np.mean(x_uni)\n",
    "x_uni_std = np.std(x_uni)\n",
    "print(f\"{x_normal_mean}, {x_normal_std}, {x_uni_mean}, {x_uni_std}\")"
   ]
  },
  {
   "cell_type": "code",
   "execution_count": null,
   "metadata": {},
   "outputs": [],
   "source": [
    "count, bins, ignored = plt.hist(x_normal, 1000)"
   ]
  },
  {
   "cell_type": "code",
   "execution_count": null,
   "metadata": {},
   "outputs": [],
   "source": [
    "count, bins, ignored = plt.hist(x_uni, 1000)"
   ]
  },
  {
   "cell_type": "code",
   "execution_count": null,
   "metadata": {},
   "outputs": [],
   "source": [
    "fixed_seed = 12345\n",
    "rng_01 = np.random.default_rng(fixed_seed)\n",
    "x_normal_fixed_seed_01 = rng_01.normal(5.0, 2.0, 100000)\n",
    "\n",
    "rng_02 = np.random.default_rng(fixed_seed)\n",
    "x_normal_fixed_seed_02 = rng_02.normal(5.0, 2.0, 100000)\n",
    "\n",
    "samples_equal = np.all(np.equal(x_normal_fixed_seed_01, x_normal_fixed_seed_02))\n",
    "print(samples_equal)"
   ]
  },
  {
   "cell_type": "code",
   "execution_count": null,
   "metadata": {},
   "outputs": [],
   "source": []
  }
 ],
 "metadata": {
  "language_info": {
   "codemirror_mode": {
    "name": "ipython",
    "version": 3
   },
   "file_extension": ".py",
   "mimetype": "text/x-python",
   "name": "python",
   "nbconvert_exporter": "python",
   "pygments_lexer": "ipython3",
   "version": "3.8.10-final"
  },
  "orig_nbformat": 2,
  "kernelspec": {
   "name": "python381064bitdd443bb6529d4670852f431f18701238",
   "display_name": "Python 3.8.10 64-bit"
  }
 },
 "nbformat": 4,
 "nbformat_minor": 2
}